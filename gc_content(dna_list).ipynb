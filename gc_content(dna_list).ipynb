{
 "cells": [
  {
   "cell_type": "code",
   "execution_count": 112,
   "id": "8b26f883",
   "metadata": {},
   "outputs": [],
   "source": [
    "def gc_content(dna_list):\n",
    "    \n",
    "    \n",
    "    percent_list = []                                  # empty list that we will fill with GC percentage values\n",
    "    \n",
    "    for strand in dna_list:\n",
    "       \n",
    "        count_gc = strand.count(\"G\")+strand.count(\"C\") # counts G's and C's in each strand\n",
    "        \n",
    "        \n",
    "        \n",
    "        percent_gc = (count_gc/len(strand))*100        # calculates GC percentage for each strand\n",
    "        percent_list.append(percent_gc)                # adds GC percentage values for each strand to the list\n",
    "        \n",
    "        \n",
    "    \n",
    "    \n",
    "    max_gc_percent = max(percent_list)                 # finds the maximum percentage value in the list [REFERENCE]: https://www.adamsmith.haus/python/answers/how-to-find-the-index-of-the-max-value-in-a-list-in-python\n",
    "    \n",
    "    max_gc_index = percent_list.index(max_gc_percent)  # finds the index of the maximum percentage value (first value is index 0)\n",
    "   \n",
    "    \n",
    "    return (max_gc_index, max_gc_percent)\n",
    "    \n"
   ]
  },
  {
   "cell_type": "code",
   "execution_count": 114,
   "id": "fa9d35c1",
   "metadata": {},
   "outputs": [
    {
     "data": {
      "text/plain": [
       "(2, 60.91954022988506)"
      ]
     },
     "execution_count": 114,
     "metadata": {},
     "output_type": "execute_result"
    }
   ],
   "source": [
    "# test\n",
    "gc_content([\"CCTGCGGAAGATCGGCACTAGAATAGCCAGAACCGTTTCTCTGAGGCTTCCGGCCTTCCCTCCCACTAATAATTCTGAGG\",\n",
    " \"CCATCGGTAGCGCATCCTTAGTCCAATTAAGTCCCTATCCAGGCGCTCCGCCGAAGGTCTATATCCATTTGTCAGCAGACACGC\",\n",
    " \"CCACCCTCGTGGTATGGCTAGGCATTCAGGAACCGGAGAACGCTTCAGACCAGCCCGGACTGGGAACCTGCGGGCAGTAGGTGGAAT\"])\n",
    "    "
   ]
  },
  {
   "cell_type": "code",
   "execution_count": null,
   "id": "cabf8536",
   "metadata": {},
   "outputs": [],
   "source": []
  },
  {
   "cell_type": "code",
   "execution_count": null,
   "id": "fa173784",
   "metadata": {},
   "outputs": [],
   "source": []
  }
 ],
 "metadata": {
  "kernelspec": {
   "display_name": "Python 3 (ipykernel)",
   "language": "python",
   "name": "python3"
  },
  "language_info": {
   "codemirror_mode": {
    "name": "ipython",
    "version": 3
   },
   "file_extension": ".py",
   "mimetype": "text/x-python",
   "name": "python",
   "nbconvert_exporter": "python",
   "pygments_lexer": "ipython3",
   "version": "3.9.12"
  }
 },
 "nbformat": 4,
 "nbformat_minor": 5
}
