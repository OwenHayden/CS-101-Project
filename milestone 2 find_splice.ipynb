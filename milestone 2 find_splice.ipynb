{
 "cells": [
  {
   "cell_type": "code",
   "execution_count": 1,
   "id": "af71baf7",
   "metadata": {},
   "outputs": [
    {
     "name": "stdout",
     "output_type": "stream",
     "text": [
      "[]\n"
     ]
    }
   ],
   "source": [
    "def find_splice(dna_motif,dna):\n",
    "    positions = []\n",
    "\n",
    "    j = 0\n",
    "    for i in range(len(dna)):\n",
    "        if dna[i] == dna_motif[j]:\n",
    "            j += 1\n",
    "            positions.append(i)\n",
    "            if j == len(dna_motif):\n",
    "                break\n",
    "    if len(positions) != len(dna_motif):\n",
    "        return []\n",
    "                \n",
    "    return positions\n",
    "\n",
    "print(find_splice('GTCTAAAAC','TGCATGCATGCACCCA'))  "
   ]
  },
  {
   "cell_type": "code",
   "execution_count": null,
   "id": "53cc439a",
   "metadata": {},
   "outputs": [],
   "source": []
  }
 ],
 "metadata": {
  "kernelspec": {
   "display_name": "Python 3 (ipykernel)",
   "language": "python",
   "name": "python3"
  },
  "language_info": {
   "codemirror_mode": {
    "name": "ipython",
    "version": 3
   },
   "file_extension": ".py",
   "mimetype": "text/x-python",
   "name": "python",
   "nbconvert_exporter": "python",
   "pygments_lexer": "ipython3",
   "version": "3.9.12"
  }
 },
 "nbformat": 4,
 "nbformat_minor": 5
}
