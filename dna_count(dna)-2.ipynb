{
 "cells": [
  {
   "cell_type": "code",
   "execution_count": null,
   "id": "e4b6c1d1",
   "metadata": {},
   "outputs": [],
   "source": [
    "def dna_count(dna):\n",
    "    \n",
    "    #calculates number of times each nucleotide appears in a string\n",
    "    \n",
    "    dna = dna.upper()\n",
    "    count_A = dna.count('A')\n",
    "    count_C = dna.count('C')\n",
    "    count_G = dna.count('G')\n",
    "    count_T = dna.count('T')\n",
    "    return count_A,count_C,count_G,count_T\n",
    "\n",
    "    #returns the function\n",
    "\n",
    "count = dna_count(\"\")\n",
    "nucleotides = ('A','C','G','T')\n",
    "\n",
    "#calls function and the keys for the nucleotides\n",
    "\n",
    "dictionary = dict(zip(nucleotides,count))\n",
    "\n",
    "#creates a dictionary from the called function and variables in nucleotides\n",
    "\n",
    "print(dictionary)\n",
    "\n",
    "#source\n",
    "#https://appdividend.com/2022/09/24/python-zip-dictionary/"
   ]
  }
 ],
 "metadata": {
  "kernelspec": {
   "display_name": "Python 3 (ipykernel)",
   "language": "python",
   "name": "python3"
  },
  "language_info": {
   "codemirror_mode": {
    "name": "ipython",
    "version": 3
   },
   "file_extension": ".py",
   "mimetype": "text/x-python",
   "name": "python",
   "nbconvert_exporter": "python",
   "pygments_lexer": "ipython3",
   "version": "3.9.12"
  }
 },
 "nbformat": 4,
 "nbformat_minor": 5
}
