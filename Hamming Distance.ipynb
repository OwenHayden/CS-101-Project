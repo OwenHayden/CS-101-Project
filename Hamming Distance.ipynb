{
 "cells": [
  {
   "cell_type": "code",
   "execution_count": 42,
   "id": "3ca1e061",
   "metadata": {},
   "outputs": [],
   "source": [
    "def hamming_dist(dna1,dna2):\n",
    "    list_1 = []\n",
    "    list_1[:0] = dna1\n",
    "    \n",
    "    list_2 = []\n",
    "    list_2[:0] = dna2\n",
    "    \n",
    "    count = 0\n",
    "    for i in range(0,len(list_1)):\n",
    "        if list_1[ i ] != list_2[ i ]:\n",
    "            count += 1\n",
    "    return count"
   ]
  },
  {
   "cell_type": "code",
   "execution_count": 46,
   "id": "9f928709",
   "metadata": {},
   "outputs": [
    {
     "data": {
      "text/plain": [
       "7"
      ]
     },
     "execution_count": 46,
     "metadata": {},
     "output_type": "execute_result"
    }
   ],
   "source": [
    "hamming_dist('GAGCCTACTAACGGGAT','CATCGTAATGACGGCGT')"
   ]
  },
  {
   "cell_type": "code",
   "execution_count": null,
   "id": "f891b535",
   "metadata": {},
   "outputs": [],
   "source": []
  }
 ],
 "metadata": {
  "kernelspec": {
   "display_name": "Python 3 (ipykernel)",
   "language": "python",
   "name": "python3"
  },
  "language_info": {
   "codemirror_mode": {
    "name": "ipython",
    "version": 3
   },
   "file_extension": ".py",
   "mimetype": "text/x-python",
   "name": "python",
   "nbconvert_exporter": "python",
   "pygments_lexer": "ipython3",
   "version": "3.9.12"
  }
 },
 "nbformat": 4,
 "nbformat_minor": 5
}
