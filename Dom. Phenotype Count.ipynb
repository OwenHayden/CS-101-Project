{
 "cells": [
  {
   "cell_type": "code",
   "execution_count": 1,
   "id": "608a54f5",
   "metadata": {},
   "outputs": [],
   "source": [
    "def count_dom_phenotype(genotypes):\n",
    "# coefficient 2 out front indicates 2 offspring per pairing\n",
    "# coefficent for each item is percent offspring that are dominant phenotype (first three are coeff. 1)\n",
    "    dom_offspring = 2 * (genotypes[0] + genotypes[1] + genotypes[2] + 0.75*genotypes[3] + 0.5*genotypes[4])\n",
    "    return dom_offspring"
   ]
  },
  {
   "cell_type": "code",
   "execution_count": 8,
   "id": "0f29e3b4",
   "metadata": {},
   "outputs": [
    {
     "data": {
      "text/plain": [
       "19.0"
      ]
     },
     "execution_count": 8,
     "metadata": {},
     "output_type": "execute_result"
    }
   ],
   "source": [
    "count_dom_phenotype([5,0,3,2,0,0])"
   ]
  },
  {
   "cell_type": "code",
   "execution_count": null,
   "id": "f99922bc",
   "metadata": {},
   "outputs": [],
   "source": []
  }
 ],
 "metadata": {
  "kernelspec": {
   "display_name": "Python 3 (ipykernel)",
   "language": "python",
   "name": "python3"
  },
  "language_info": {
   "codemirror_mode": {
    "name": "ipython",
    "version": 3
   },
   "file_extension": ".py",
   "mimetype": "text/x-python",
   "name": "python",
   "nbconvert_exporter": "python",
   "pygments_lexer": "ipython3",
   "version": "3.9.12"
  }
 },
 "nbformat": 4,
 "nbformat_minor": 5
}
