{
 "cells": [
  {
   "cell_type": "markdown",
   "id": "1f358e3c",
   "metadata": {},
   "source": [
    "### source_rna(protein)"
   ]
  },
  {
   "cell_type": "code",
   "execution_count": 2,
   "id": "55e49936",
   "metadata": {},
   "outputs": [],
   "source": [
    "def source_rna(protein):\n",
    "    # from Lab 3\n",
    "    rna2codon = {\n",
    "            'UUU': 'F', 'UUC': 'F', 'UUA': 'L', 'UUG': 'L',        'CUU': 'L', 'CUC': 'L', 'CUA': 'L', 'CUG': 'L',\n",
    "            'AUU': 'I', 'AUC': 'I', 'AUA': 'I', 'AUG': 'M',        'GUU': 'V', 'GUC': 'V', 'GUA': 'V', 'GUG': 'V',\n",
    "\n",
    "            'UCU': 'S', 'UCC': 'S', 'UCA': 'S', 'UCG': 'S',        'CCU': 'P', 'CCC': 'P', 'CCA': 'P', 'CCG': 'P',\n",
    "            'ACU': 'T', 'ACC': 'T', 'ACA': 'T', 'ACG': 'T',        'GCU': 'A', 'GCC': 'A', 'GCA': 'A', 'GCG': 'A',\n",
    "\n",
    "            'UAU': 'Y', 'UAC': 'Y', 'UAA': '*', 'UAG': '*',        'CAU': 'H', 'CAC': 'H', 'CAA': 'Q', 'CAG': 'Q',\n",
    "            'AAU': 'N', 'AAC': 'N', 'AAA': 'K', 'AAG': 'K',        'GAU': 'D', 'GAC': 'D', 'GAA': 'E', 'GAG': 'E',\n",
    "\n",
    "            'UGU': 'C', 'UGC': 'C', 'UGA': '*', 'UGG': 'W',        'CGU': 'R', 'CGC': 'R', 'CGA': 'R', 'CGG': 'R',\n",
    "            'AGU': 'S', 'AGC': 'S', 'AGA': 'R', 'AGG': 'R',        'GGU': 'G', 'GGC': 'G', 'GGA': 'G', 'GGG': 'G',\n",
    "        }\n",
    "    # modulo 1000000\n",
    "    mod = 1000000\n",
    "    count = 3\n",
    "    for character in protein:\n",
    "        temporary = 0\n",
    "        # Check each key-value in dictionary\n",
    "        for k,v in rna2codon.items():\n",
    "            if v == character:\n",
    "                temporary = (temporary + 1)\n",
    "        count = (count * temporary)        \n",
    "    return count%mod"
   ]
  },
  {
   "cell_type": "code",
   "execution_count": 6,
   "id": "e83aa6ae",
   "metadata": {},
   "outputs": [
    {
     "data": {
      "text/plain": [
       "12"
      ]
     },
     "execution_count": 6,
     "metadata": {},
     "output_type": "execute_result"
    }
   ],
   "source": [
    "# Check for accuracy\n",
    "source_rna('MA')"
   ]
  },
  {
   "cell_type": "code",
   "execution_count": 4,
   "id": "465c6fd6",
   "metadata": {},
   "outputs": [
    {
     "data": {
      "text/plain": [
       "48"
      ]
     },
     "execution_count": 4,
     "metadata": {},
     "output_type": "execute_result"
    }
   ],
   "source": [
    "source_rna('CMDA')"
   ]
  },
  {
   "cell_type": "markdown",
   "id": "0914d8f0",
   "metadata": {},
   "source": [
    "### splice_rna(dna, intron_list)"
   ]
  },
  {
   "cell_type": "code",
   "execution_count": 35,
   "id": "1422f75e",
   "metadata": {},
   "outputs": [],
   "source": [
    "def splice(dna,intron_list):\n",
    "    for strand in intron_list:\n",
    "        dna = dna.replace(strand,\"\")\n",
    "    rna = dna2rna(dna)\n",
    "    return rna2codons(rna)\n",
    "\n",
    "def dna2rna(dna):\n",
    "    rna = ''\n",
    "    for symbol in dna:\n",
    "        if symbol == 'A':\n",
    "            rna = rna + 'A'\n",
    "        elif symbol == 'T':\n",
    "            rna = rna + 'U'\n",
    "        elif symbol == 'G':\n",
    "            rna = rna + 'G'\n",
    "        elif symbol == 'C':\n",
    "            rna = rna + 'C'\n",
    "    return rna\n",
    "\n",
    "def rna2codons(triplets):\n",
    "    amino = ''\n",
    "    for triplet in range(0,int( len( triplets ) / 3 )):\n",
    "        triplet = triplets[3*triplet:3*triplet+3]\n",
    "        amino = amino + rna2codon(triplet)\n",
    "    return amino"
   ]
  },
  {
   "cell_type": "code",
   "execution_count": 36,
   "id": "44d8ff34",
   "metadata": {},
   "outputs": [
    {
     "data": {
      "text/plain": [
       "'ATGGTCTACATAGCTGACAAACAGCACGTAGCAATCGGTCGAATCTCGAGAGGCATATGGTCACATGATCGGTCGAGCGTGTTTCAAAGTTTGCGCCTAG'"
      ]
     },
     "execution_count": 36,
     "metadata": {},
     "output_type": "execute_result"
    }
   ],
   "source": [
    "dna"
   ]
  },
  {
   "cell_type": "code",
   "execution_count": 37,
   "id": "8a59c906",
   "metadata": {},
   "outputs": [
    {
     "data": {
      "text/plain": [
       "['ATCGGTCGAA', 'ATCGGTCGAGCGTGT']"
      ]
     },
     "execution_count": 37,
     "metadata": {},
     "output_type": "execute_result"
    }
   ],
   "source": [
    "intron_list"
   ]
  },
  {
   "cell_type": "code",
   "execution_count": 39,
   "id": "69500508",
   "metadata": {},
   "outputs": [
    {
     "data": {
      "text/plain": [
       "'MVYIADKQHVASREAYGHMFKVCA*'"
      ]
     },
     "execution_count": 39,
     "metadata": {},
     "output_type": "execute_result"
    }
   ],
   "source": [
    "protein"
   ]
  }
 ],
 "metadata": {
  "kernelspec": {
   "display_name": "Python 3 (ipykernel)",
   "language": "python",
   "name": "python3"
  },
  "language_info": {
   "codemirror_mode": {
    "name": "ipython",
    "version": 3
   },
   "file_extension": ".py",
   "mimetype": "text/x-python",
   "name": "python",
   "nbconvert_exporter": "python",
   "pygments_lexer": "ipython3",
   "version": "3.9.12"
  }
 },
 "nbformat": 4,
 "nbformat_minor": 5
}
