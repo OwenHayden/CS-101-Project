{
 "cells": [
  {
   "cell_type": "code",
   "execution_count": 3,
   "id": "8141d1e6",
   "metadata": {},
   "outputs": [],
   "source": [
    "from math import factorial\n",
    "def mendels_law(hom, het, rec):\n",
    "# calculating how many times each pairing occurs (hom and hom, hom and het, etc.)\n",
    "# formula for unique pairings from https://byjus.com/combination-formula/\n",
    "    if hom > 1:\n",
    "        hom_hom = factorial(hom) / (2 * factorial(hom - 2))\n",
    "    else:\n",
    "        hom_hom = 0\n",
    "    hom_het = hom * het\n",
    "    hom_rec = hom * rec\n",
    "    if het > 1:\n",
    "        het_het = factorial(het) / (2 * factorial(het - 2))\n",
    "    else:\n",
    "        het_het = 0\n",
    "    het_rec = het * rec\n",
    "    \n",
    "# calculating total number of pairings using the same formula\n",
    "    total_pairings = factorial(hom + het + rec) / (2 * factorial(hom + het + rec - 2))\n",
    "\n",
    "# summing all pairings multiplied by the probability of a dominant offspring for each pairing\n",
    "# dividing by total pairing converts into a probability\n",
    "    prob_dom = ((1 * hom_hom) + (1 * hom_het) + (1 * hom_rec) + (0.75 * het_het) + (0.5 * het_rec)) / total_pairings\n",
    "    return prob_dom"
   ]
  },
  {
   "cell_type": "code",
   "execution_count": 5,
   "id": "f1211363",
   "metadata": {},
   "outputs": [
    {
     "data": {
      "text/plain": [
       "0.7833333333333333"
      ]
     },
     "execution_count": 5,
     "metadata": {},
     "output_type": "execute_result"
    }
   ],
   "source": [
    "mendels_law(2,2,2)"
   ]
  },
  {
   "cell_type": "code",
   "execution_count": null,
   "id": "94ba44c5",
   "metadata": {},
   "outputs": [],
   "source": []
  }
 ],
 "metadata": {
  "kernelspec": {
   "display_name": "Python 3 (ipykernel)",
   "language": "python",
   "name": "python3"
  },
  "language_info": {
   "codemirror_mode": {
    "name": "ipython",
    "version": 3
   },
   "file_extension": ".py",
   "mimetype": "text/x-python",
   "name": "python",
   "nbconvert_exporter": "python",
   "pygments_lexer": "ipython3",
   "version": "3.9.12"
  }
 },
 "nbformat": 4,
 "nbformat_minor": 5
}
