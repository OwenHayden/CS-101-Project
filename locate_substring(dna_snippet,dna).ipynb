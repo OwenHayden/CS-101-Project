{
 "cells": [
  {
   "cell_type": "code",
   "execution_count": null,
   "id": "7845d2aa",
   "metadata": {},
   "outputs": [],
   "source": []
  },
  {
   "cell_type": "code",
   "execution_count": 1,
   "id": "d39022a6",
   "metadata": {},
   "outputs": [],
   "source": [
    "\n",
    "def dna2rna(dna):\n",
    "    rna = ''\n",
    "    for symbol in dna:\n",
    "        if symbol == 'A':\n",
    "            rna = rna + 'U'\n",
    "        elif symbol == 'C':\n",
    "            rna = rna + 'G'\n",
    "        elif symbol == 'G':\n",
    "            rna = rna + 'C'\n",
    "        elif symbol == 'T':\n",
    "            rna = rna + 'A'\n",
    "        elif symbol == 'U':\n",
    "            rna = rna + 'A'\n",
    "    return rna\n"
   ]
  },
  {
   "cell_type": "code",
   "execution_count": 2,
   "id": "fb79ce1c",
   "metadata": {},
   "outputs": [
    {
     "ename": "NameError",
     "evalue": "name 'dna' is not defined",
     "output_type": "error",
     "traceback": [
      "\u001b[0;31m---------------------------------------------------------------------------\u001b[0m",
      "\u001b[0;31mNameError\u001b[0m                                 Traceback (most recent call last)",
      "Input \u001b[0;32mIn [2]\u001b[0m, in \u001b[0;36m<cell line: 4>\u001b[0;34m()\u001b[0m\n\u001b[1;32m      1\u001b[0m sequence \u001b[38;5;241m=\u001b[39m \u001b[38;5;124m'\u001b[39m\u001b[38;5;124mAGCCTAGC\u001b[39m\u001b[38;5;124m'\u001b[39m\n\u001b[1;32m      2\u001b[0m dictionary \u001b[38;5;241m=\u001b[39m {}\n\u001b[0;32m----> 4\u001b[0m count_A \u001b[38;5;241m=\u001b[39m \u001b[43mdna\u001b[49m\u001b[38;5;241m.\u001b[39mcount(\u001b[38;5;124m'\u001b[39m\u001b[38;5;124mA\u001b[39m\u001b[38;5;124m'\u001b[39m)\n\u001b[1;32m      5\u001b[0m count_C \u001b[38;5;241m=\u001b[39m dna\u001b[38;5;241m.\u001b[39mcount(\u001b[38;5;124m'\u001b[39m\u001b[38;5;124mC\u001b[39m\u001b[38;5;124m'\u001b[39m)\n\u001b[1;32m      6\u001b[0m count_G \u001b[38;5;241m=\u001b[39m dna\u001b[38;5;241m.\u001b[39mcount(\u001b[38;5;124m'\u001b[39m\u001b[38;5;124mG\u001b[39m\u001b[38;5;124m'\u001b[39m)\n",
      "\u001b[0;31mNameError\u001b[0m: name 'dna' is not defined"
     ]
    }
   ],
   "source": [
    "sequence = 'AGCCTAGC'\n",
    "dictionary = {}\n",
    "\n",
    "count_A = dna.count('A')\n",
    "count_C = dna.count('C')\n",
    "count_G = dna.count('G')\n",
    "count_T = dna.count('T')\n",
    "\n",
    "return count_A,count_C,count_G,count_T\n",
    "\n"
   ]
  },
  {
   "cell_type": "code",
   "execution_count": null,
   "id": "60eb2c04",
   "metadata": {},
   "outputs": [],
   "source": [
    "sequence = {}\n",
    "def dna_count(dna):\n",
    "    count_A = dna.count('A')\n",
    "    count_C = dna.count('C')\n",
    "    count_G = dna.count('G')\n",
    "    count_T = dna.count('T')\n",
    "\n",
    "\n",
    "    "
   ]
  },
  {
   "cell_type": "code",
   "execution_count": null,
   "id": "284ba147",
   "metadata": {},
   "outputs": [],
   "source": [
    "alpha = {'a','a'}\n",
    "\n",
    "for num in range(len(alpha)+1):\n",
    "    \n",
    "    number = num + a\n",
    "\n",
    "dictionary = dict.fromkeys(alpha, number)\n",
    "\n",
    "print(dictionary)"
   ]
  },
  {
   "cell_type": "code",
   "execution_count": null,
   "id": "a11322a3",
   "metadata": {},
   "outputs": [],
   "source": [
    "sequence = {'aaaaa'}\n",
    "\n",
    "\n",
    "for num in range(0,len(sequence)):\n",
    "    number = num + a\n",
    "\n",
    "dictionary_a = dict.fromkeys(sequence, number)\n",
    "\n",
    "print(dictionary_a)\n",
    "\n",
    "\n"
   ]
  },
  {
   "cell_type": "code",
   "execution_count": null,
   "id": "08faf2b7",
   "metadata": {},
   "outputs": [],
   "source": [
    "sequence = {'aaa'}\n",
    "\n",
    "for num in range(len(sequence)+1):\n",
    "    number = num + a\n",
    "\n",
    "dictionary_a = dict.fromkeys(sequence, number)\n",
    "\n",
    "print(number)"
   ]
  },
  {
   "cell_type": "code",
   "execution_count": null,
   "id": "623f48a7",
   "metadata": {},
   "outputs": [],
   "source": [
    "items = ['a','b','c']\n",
    "dict(enumerate(items,1))"
   ]
  },
  {
   "cell_type": "code",
   "execution_count": 14,
   "id": "577ff907",
   "metadata": {},
   "outputs": [
    {
     "name": "stdout",
     "output_type": "stream",
     "text": [
      "<function s at 0x7fb8f9ad1790>\n"
     ]
    }
   ],
   "source": [
    "dna = 'AGGCTACA'\n",
    "    #seq means sequence\n",
    "seq = {}\n",
    "\n",
    "def s(dna):\n",
    "        \n",
    "    count_A = dna.count('A')\n",
    "    count_C = dna.count('C')\n",
    "    count_G = dna.count('G')\n",
    "    count_T = dna.count('T')\n",
    "       \n",
    "        #n means nucleotides    \n",
    "    for n in range(len(dna)): \n",
    "        seq[n] = seq(n,0)+1\n",
    "        \n",
    "    return count_A,count_C,count_G,count_T\n",
    "            \n",
    "print(s)\n"
   ]
  },
  {
   "cell_type": "code",
   "execution_count": 16,
   "id": "c1b6fc27",
   "metadata": {},
   "outputs": [
    {
     "ename": "TypeError",
     "evalue": "'set' object is not subscriptable",
     "output_type": "error",
     "traceback": [
      "\u001b[0;31m---------------------------------------------------------------------------\u001b[0m",
      "\u001b[0;31mTypeError\u001b[0m                                 Traceback (most recent call last)",
      "Input \u001b[0;32mIn [16]\u001b[0m, in \u001b[0;36m<cell line: 5>\u001b[0;34m()\u001b[0m\n\u001b[1;32m      3\u001b[0m seq\u001b[38;5;241m=\u001b[39m{\u001b[38;5;124m'\u001b[39m\u001b[38;5;124mA\u001b[39m\u001b[38;5;124m'\u001b[39m,\u001b[38;5;124m'\u001b[39m\u001b[38;5;124mC\u001b[39m\u001b[38;5;124m'\u001b[39m,\u001b[38;5;124m'\u001b[39m\u001b[38;5;124mT\u001b[39m\u001b[38;5;124m'\u001b[39m,\u001b[38;5;124m'\u001b[39m\u001b[38;5;124mG\u001b[39m\u001b[38;5;124m'\u001b[39m}\n\u001b[1;32m      5\u001b[0m \u001b[38;5;28;01mfor\u001b[39;00m n \u001b[38;5;129;01min\u001b[39;00m dna:\n\u001b[0;32m----> 6\u001b[0m     seq[n] \u001b[38;5;241m+\u001b[39m\u001b[38;5;241m=\u001b[39m \u001b[38;5;241m1\u001b[39m\n\u001b[1;32m      8\u001b[0m \u001b[38;5;28mprint\u001b[39m(seq)\n",
      "\u001b[0;31mTypeError\u001b[0m: 'set' object is not subscriptable"
     ]
    }
   ],
   "source": [
    "dna = 'AGTTACATA'\n",
    "\n",
    "seq={}\n",
    "\n",
    "for n in dna:\n",
    "    seq[n] += 1\n",
    "    \n",
    "print(seq)"
   ]
  },
  {
   "cell_type": "code",
   "execution_count": 20,
   "id": "b3a55dfd",
   "metadata": {},
   "outputs": [
    {
     "name": "stdout",
     "output_type": "stream",
     "text": [
      "{'A': 20, 'C': 12, 'G': 17, 'T': 21}\n"
     ]
    }
   ],
   "source": [
    "def dna_count(dna):\n",
    "    dna = dna.upper()\n",
    "    count_A = dna.count('A')\n",
    "    count_C = dna.count('C')\n",
    "    count_G = dna.count('G')\n",
    "    count_T = dna.count('T')\n",
    "    return count_A,count_C,count_G,count_T\n",
    "count = dna_count(\"AGCTTTTCATTCTGACTGCAACGGGCAATATGTCTCTGTGTGGATTAAAAAAAGAGTGTCTGATAGCAGC\")\n",
    "nucleotides= ('A','C','G','T')\n",
    "dictionary = dict(zip(nucleotides,count))\n",
    "print(dictionary)"
   ]
  },
  {
   "cell_type": "code",
   "execution_count": 23,
   "id": "c3caa11c",
   "metadata": {},
   "outputs": [
    {
     "name": "stdout",
     "output_type": "stream",
     "text": [
      "1\n"
     ]
    }
   ],
   "source": [
    "def locate_substring(dna_snippet,dna):\n",
    "    list = []\n",
    "    n = 0\n",
    "    for i in range(len(dna)):\n",
    "        #if dna_snippet in dna:\n",
    "        # list += dna.index(dna_snippet) \n",
    "        idx = dna.index(dna_snippet,n)\n",
    "        list += idx\n",
    "        n = idx + 1\n",
    "        if n > len(dna):\n",
    "            return list\n",
    "    \n",
    "            \n",
    "    count_ATAT = dna_snippet.count('ATAT')\n",
    "    value = sequence.index('ATAT')\n",
    "    return value\n",
    "sequence = 'GATATATGCATATACTT'\n",
    "locate_substring('ATAT', sequence)"
   ]
  },
  {
   "cell_type": "code",
   "execution_count": 29,
   "id": "7f2df75d",
   "metadata": {},
   "outputs": [
    {
     "name": "stdout",
     "output_type": "stream",
     "text": [
      "None\n"
     ]
    }
   ],
   "source": [
    "def locate_substring(dna_snippet,dna):\n",
    "    list = []\n",
    "    n = 0\n",
    "    for i in range(len(dna)):\n",
    "        #if dna_snippet in dna:\n",
    "        # list += dna.index(dna_snippet) \n",
    "        idx = dna.find(dna_snippet,n)\n",
    "        hi.append(idx)\n",
    "        n = idx + 1\n",
    "        if n > len(dna):\n",
    "            return hi\n",
    "sequence = 'GATATATGCATATACTT'\n",
    "bye = locate_substring('ATAT', sequence)\n",
    "print(bye)"
   ]
  },
  {
   "cell_type": "code",
   "execution_count": null,
   "id": "b5c1e18e",
   "metadata": {},
   "outputs": [],
   "source": []
  },
  {
   "cell_type": "code",
   "execution_count": null,
   "id": "8fbdcf2e",
   "metadata": {},
   "outputs": [],
   "source": []
  },
  {
   "cell_type": "code",
   "execution_count": 7,
   "id": "97b95903",
   "metadata": {},
   "outputs": [],
   "source": [
    "def locate_substring(dna_snippet,dna):\n",
    "    \n",
    "    #establishing a list that contains matches\n",
    "    matches = []   \n",
    "    \n",
    "    #looking for places there might be a match\n",
    "    for i in range(len(dna)-len(dna_snippet)+1):   \n",
    "        #finds a match for the first index\n",
    "        if dna[i] == dna_snippet[0]:\n",
    "            match = True\n",
    "            #checks to see if the rest of the pattern is there\n",
    "            for n in range(len(dna_snippet)):\n",
    "                if dna_snippet[n] != dna[i+n]:\n",
    "                    match = False\n",
    "                    break\n",
    "            #adds all locations where theres a match into a list\n",
    "            if match == True:\n",
    "                matches.append(i)\n",
    "                    \n",
    "    return matches \n",
    "\n",
    "#source\n",
    "#https://pynative.com/python-nested-loops/\n",
    "#https://www.youtube.com/watch?v=O60CFmcWyEY"
   ]
  },
  {
   "cell_type": "code",
   "execution_count": null,
   "id": "33124b5f",
   "metadata": {},
   "outputs": [],
   "source": []
  },
  {
   "cell_type": "code",
   "execution_count": null,
   "id": "2179a0f2",
   "metadata": {},
   "outputs": [],
   "source": []
  },
  {
   "cell_type": "code",
   "execution_count": null,
   "id": "04b71d92",
   "metadata": {},
   "outputs": [],
   "source": []
  },
  {
   "cell_type": "code",
   "execution_count": null,
   "id": "6361a6fc",
   "metadata": {},
   "outputs": [],
   "source": []
  },
  {
   "cell_type": "code",
   "execution_count": null,
   "id": "4a6edd94",
   "metadata": {},
   "outputs": [],
   "source": []
  },
  {
   "cell_type": "code",
   "execution_count": null,
   "id": "0acafe5f",
   "metadata": {},
   "outputs": [],
   "source": []
  },
  {
   "cell_type": "code",
   "execution_count": null,
   "id": "5c79e365",
   "metadata": {},
   "outputs": [],
   "source": []
  },
  {
   "cell_type": "code",
   "execution_count": null,
   "id": "79110b2f",
   "metadata": {},
   "outputs": [],
   "source": []
  },
  {
   "cell_type": "code",
   "execution_count": null,
   "id": "74117cbb",
   "metadata": {},
   "outputs": [],
   "source": []
  }
 ],
 "metadata": {
  "kernelspec": {
   "display_name": "Python 3 (ipykernel)",
   "language": "python",
   "name": "python3"
  },
  "language_info": {
   "codemirror_mode": {
    "name": "ipython",
    "version": 3
   },
   "file_extension": ".py",
   "mimetype": "text/x-python",
   "name": "python",
   "nbconvert_exporter": "python",
   "pygments_lexer": "ipython3",
   "version": "3.9.12"
  }
 },
 "nbformat": 4,
 "nbformat_minor": 5
}
