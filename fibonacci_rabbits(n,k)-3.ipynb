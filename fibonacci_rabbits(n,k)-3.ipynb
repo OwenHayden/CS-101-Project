{
 "cells": [
  {
   "cell_type": "code",
   "execution_count": 8,
   "id": "7206a5c9",
   "metadata": {},
   "outputs": [
    {
     "name": "stdout",
     "output_type": "stream",
     "text": [
      "8\n"
     ]
    }
   ],
   "source": [
    "def fibonacci_rabbits(n,k):\n",
    "    \n",
    "    #returns 1 for first and second term of sequence (both always equal one).\n",
    "    if n==1 or n==2:\n",
    "        return 1\n",
    "    \n",
    "    #fibonacci equation is Fn-1 + Fn-2\n",
    "    #runs through equation for value n which calculates number of pairs of rabbits\n",
    "    elif n > 2:\n",
    "        return fibonacci_rabbits(n-1,k)+k*fibonacci_rabbits(n-2,k)           \n",
    "\n",
    "\n",
    "#sources\n",
    "#https://www.programiz.com/python-programming/recursion\n",
    "#https://www.youtube.com/watch?v=ngCos392W4w"
   ]
  },
  {
   "cell_type": "code",
   "execution_count": null,
   "id": "d3296306",
   "metadata": {},
   "outputs": [],
   "source": []
  }
 ],
 "metadata": {
  "kernelspec": {
   "display_name": "Python 3 (ipykernel)",
   "language": "python",
   "name": "python3"
  },
  "language_info": {
   "codemirror_mode": {
    "name": "ipython",
    "version": 3
   },
   "file_extension": ".py",
   "mimetype": "text/x-python",
   "name": "python",
   "nbconvert_exporter": "python",
   "pygments_lexer": "ipython3",
   "version": "3.9.12"
  }
 },
 "nbformat": 4,
 "nbformat_minor": 5
}
