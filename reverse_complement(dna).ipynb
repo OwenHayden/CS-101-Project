{
 "cells": [
  {
   "cell_type": "code",
   "execution_count": 3,
   "id": "4a1ce548",
   "metadata": {},
   "outputs": [],
   "source": [
    "def reverse_complement(dna):\n",
    "    \n",
    "    dna = dna.upper()\n",
    "    complementary_strand = ''\n",
    "    \n",
    "    \n",
    "    for base in dna:   #for loop matches each base to its complementary base\n",
    "        if base == 'A':\n",
    "            complementary_strand = complementary_strand + 'T'\n",
    "        elif base == 'C':\n",
    "             complementary_strand = complementary_strand + 'G'\n",
    "        elif base == 'T':\n",
    "             complementary_strand = complementary_strand + 'A'\n",
    "        elif base == 'G':\n",
    "             complementary_strand = complementary_strand + 'C'\n",
    "    \n",
    "    reverse_complement = complementary_strand [::-1] #reverses the complementary DNA strand\n",
    "    \n",
    "    return reverse_complement"
   ]
  },
  {
   "cell_type": "code",
   "execution_count": 6,
   "id": "90fd2331",
   "metadata": {},
   "outputs": [
    {
     "data": {
      "text/plain": [
       "'ACCGGGTTTT'"
      ]
     },
     "execution_count": 6,
     "metadata": {},
     "output_type": "execute_result"
    }
   ],
   "source": [
    "#testing the function\n",
    "reverse_complement(\"AAAACCCGGT\")"
   ]
  },
  {
   "cell_type": "code",
   "execution_count": null,
   "id": "7d57df90",
   "metadata": {},
   "outputs": [],
   "source": []
  }
 ],
 "metadata": {
  "kernelspec": {
   "display_name": "Python 3 (ipykernel)",
   "language": "python",
   "name": "python3"
  },
  "language_info": {
   "codemirror_mode": {
    "name": "ipython",
    "version": 3
   },
   "file_extension": ".py",
   "mimetype": "text/x-python",
   "name": "python",
   "nbconvert_exporter": "python",
   "pygments_lexer": "ipython3",
   "version": "3.9.12"
  }
 },
 "nbformat": 4,
 "nbformat_minor": 5
}
