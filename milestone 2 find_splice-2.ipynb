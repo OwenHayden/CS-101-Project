{
 "cells": [
  {
   "cell_type": "code",
   "execution_count": 2,
   "id": "4a39d702",
   "metadata": {},
   "outputs": [],
   "source": [
    "def find_splice(dna_motif,dna):\n",
    "    #creates empty list to hold positions of indexes\n",
    "    positions = []\n",
    "    \n",
    "    #iterates through dna string and compares indexes of 'i' in dna to 'j' in motif\n",
    "    j = 0\n",
    "    for i in range(len(dna)):\n",
    "        \n",
    "        #adds index to list with 'i'\n",
    "        #'j' changes start position when reiterating\n",
    "        \n",
    "        if dna[i] == dna_motif[j]:\n",
    "            j += 1\n",
    "            positions.append(i)\n",
    "            \n",
    "            #keeps indexing within range\n",
    "            if j == len(dna_motif):\n",
    "                break\n",
    "    #returns empty list if the whole motif isn't indexed\n",
    "    if len(positions) != len(dna_motif):\n",
    "        return []\n",
    "                \n",
    "    return positions\n",
    "\n",
    "#sources\n",
    "#https://pythonexamples.org/python-string-find-index-of-first-occurrence-of-substring/\n",
    "#https://stackoverflow.com/questions/11422781/comparing-list-values-by-index-in-python"
   ]
  },
  {
   "cell_type": "code",
   "execution_count": null,
   "id": "d76750ba",
   "metadata": {},
   "outputs": [],
   "source": []
  }
 ],
 "metadata": {
  "kernelspec": {
   "display_name": "Python 3 (ipykernel)",
   "language": "python",
   "name": "python3"
  },
  "language_info": {
   "codemirror_mode": {
    "name": "ipython",
    "version": 3
   },
   "file_extension": ".py",
   "mimetype": "text/x-python",
   "name": "python",
   "nbconvert_exporter": "python",
   "pygments_lexer": "ipython3",
   "version": "3.9.12"
  }
 },
 "nbformat": 4,
 "nbformat_minor": 5
}
