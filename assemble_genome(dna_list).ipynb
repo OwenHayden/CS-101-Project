{
 "cells": [
  {
   "cell_type": "code",
   "execution_count": 1,
   "id": "0427ea85",
   "metadata": {},
   "outputs": [],
   "source": [
    "from itertools import permutations\n",
    "\n",
    "# first creates a function that combines only two strings\n",
    "def superstring(string1,string2):\n",
    "    superstring = \"\"\n",
    "    if string1 == string2:\n",
    "        superstring = string1\n",
    "    else:\n",
    "# compares end of 1st string and start of 2nd string, increasing in length as i increases\n",
    "# this naturally selects for smallest string\n",
    "        for i in range(1,len(string1)):\n",
    "            if string1[-i:] == string2[:i ]:\n",
    "                superstring = string1 + string2[i:]\n",
    "# this elif is for when none of the substrings match\n",
    "            elif i == len(string1) - 1 and superstring == '':\n",
    "                superstring = string1 + string2\n",
    "                \n",
    "    return superstring\n",
    "\n",
    "def assemble_genome(dna_list):\n",
    "    \n",
    "    superstring_dict = {}\n",
    "    new_string = ''\n",
    "    \n",
    "# tries every possible combo. of strings\n",
    "    for group in permutations( dna_list,len(dna_list) ):\n",
    "        \n",
    "# repeatedly uses superstring function, adding each string in each permutation\n",
    "        new_string = group[0]\n",
    "        for i in range(1,len(dna_list)):\n",
    "            new_string = superstring(new_string,group[i])\n",
    "# once it reaches the end of a permutation, adds it to dict with its length as the value\n",
    "            if i == len(dna_list) - 1:\n",
    "                superstring_dict[ new_string ] = len(new_string)\n",
    "                \n",
    "# finds the key of the smallest value\n",
    "    shortest_string = min(superstring_dict, key = superstring_dict.get)\n",
    "    \n",
    "    \n",
    "    return shortest_string\n",
    "            \n",
    "# Source for itertools function: https://docs.python.org/3/library/itertools.html\n",
    "# Source for finding corresponding key of minimum value: \n",
    "# https://stackoverflow.com/questions/3282823/get-the-key-corresponding-to-the-minimum-value-within-a-dictionary"
   ]
  }
 ],
 "metadata": {
  "kernelspec": {
   "display_name": "Python 3 (ipykernel)",
   "language": "python",
   "name": "python3"
  },
  "language_info": {
   "codemirror_mode": {
    "name": "ipython",
    "version": 3
   },
   "file_extension": ".py",
   "mimetype": "text/x-python",
   "name": "python",
   "nbconvert_exporter": "python",
   "pygments_lexer": "ipython3",
   "version": "3.9.12"
  }
 },
 "nbformat": 4,
 "nbformat_minor": 5
}
