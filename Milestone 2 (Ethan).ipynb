{
 "cells": [
  {
   "cell_type": "markdown",
   "id": "5f842dc3",
   "metadata": {},
   "source": [
    "### get_edges(dna_dict)"
   ]
  },
  {
   "cell_type": "code",
   "execution_count": 1,
   "id": "43627791",
   "metadata": {},
   "outputs": [],
   "source": [
    "def get_edges(dna_dict):\n",
    "    adj_list = []\n",
    "    for key1, dna1 in dna_dict.items():\n",
    "            for key2, dna2 in dna_dict.items():\n",
    "                if key1 != key2 and dna1[-3:] == dna2[:3]:\n",
    "                    adj_list.append((key1, key2))\n",
    "            return adj_list"
   ]
  },
  {
   "cell_type": "code",
   "execution_count": 2,
   "id": "5c24b323",
   "metadata": {},
   "outputs": [],
   "source": [
    "dna_dict = {'Rosalind_0498': 'AAATAAA',\n",
    "            'Rosalind_2391': 'AAATTTT', \n",
    "            'Rosalind_2323': 'TTTTCCC', \n",
    "            'Rosalind_0442': 'AAATCCC', \n",
    "            'Rosalind_5013': 'GGGTGGG'}"
   ]
  },
  {
   "cell_type": "code",
   "execution_count": 3,
   "id": "97c0c9d9",
   "metadata": {},
   "outputs": [
    {
     "data": {
      "text/plain": [
       "[('Rosalind_0498', 'Rosalind_2391'), ('Rosalind_0498', 'Rosalind_0442')]"
      ]
     },
     "execution_count": 3,
     "metadata": {},
     "output_type": "execute_result"
    },
    {
     "data": {
      "text/plain": [
       "[('Rosalind_0498', 'Rosalind_2391'), ('Rosalind_0498', 'Rosalind_0442')]"
      ]
     },
     "execution_count": 3,
     "metadata": {},
     "output_type": "execute_result"
    }
   ],
   "source": [
    "get_edges(dna_dict)"
   ]
  },
  {
   "cell_type": "markdown",
   "id": "2e8258ff",
   "metadata": {},
   "source": [
    "### random_genome(dna, gc_content)"
   ]
  },
  {
   "cell_type": "code",
   "execution_count": 5,
   "id": "bfb6f37a",
   "metadata": {},
   "outputs": [
    {
     "name": "stdout",
     "output_type": "stream",
     "text": [
      "[-5.737, -5.217, -5.263, -5.36, -5.958, -6.628, -7.009]\n",
      "[-5.737, -5.217, -5.263, -5.36, -5.958, -6.628, -7.009]\n"
     ]
    }
   ],
   "source": [
    "import math\n",
    "def random_genome(dna, gc_content):\n",
    "    dna = dna.upper()\n",
    "    cg = len(dna.replace('A','').replace('T',''))\n",
    "    at = len(dna.replace('C','').replace('G',''))\n",
    "    result = []\n",
    "    for i in range(0, len(gc_content)):\n",
    "        prob = cg * math.log10(float(gc_content[i]) / 2) + at * math.log10((1 - float(gc_content[i])) / 2)\n",
    "        result.append(round(prob, 3))\n",
    "    return result\n",
    "dna = 'ACGATACAA'\n",
    "gc_content = [0.129, 0.287, 0.423, 0.476, 0.641, 0.742, 0.783]\n",
    "a = random_genome(dna, gc_content)\n",
    "print(a)"
   ]
  }
 ],
 "metadata": {
  "kernelspec": {
   "display_name": "Python 3 (ipykernel)",
   "language": "python",
   "name": "python3"
  },
  "language_info": {
   "codemirror_mode": {
    "name": "ipython",
    "version": 3
   },
   "file_extension": ".py",
   "mimetype": "text/x-python",
   "name": "python",
   "nbconvert_exporter": "python",
   "pygments_lexer": "ipython3",
   "version": "3.9.12"
  }
 },
 "nbformat": 4,
 "nbformat_minor": 5
}
